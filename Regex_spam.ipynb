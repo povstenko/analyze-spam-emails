{
 "cells": [
  {
   "cell_type": "markdown",
   "id": "flush-recall",
   "metadata": {},
   "source": [
    "# Tutorial: Python Regex (Regular Expressions) for Data Scientists\n",
    "\n",
    "In this tutorial, we’ll use the Fraudulent Email Corpus from Kaggle. It contains thousands of phishing emails sent between 1998 and 2007. They’re pretty entertaining to read."
   ]
  },
  {
   "cell_type": "code",
   "execution_count": 1,
   "id": "interpreted-houston",
   "metadata": {},
   "outputs": [],
   "source": [
    "import re\n",
    "import pandas as pd\n",
    "import email"
   ]
  },
  {
   "cell_type": "markdown",
   "id": "running-arrangement",
   "metadata": {},
   "source": [
    "## Introducing Python’s Regex Module\n"
   ]
  },
  {
   "cell_type": "code",
   "execution_count": 2,
   "id": "blank-vertex",
   "metadata": {},
   "outputs": [],
   "source": [
    "fh = open(r\"dataset/test_emails.txt\", \"r\").read()"
   ]
  },
  {
   "cell_type": "markdown",
   "id": "essential-logan",
   "metadata": {},
   "source": [
    "Now, suppose we want to find out who the emails are from. We could try raw Python on its own:"
   ]
  },
  {
   "cell_type": "code",
   "execution_count": 3,
   "id": "advanced-brain",
   "metadata": {},
   "outputs": [
    {
     "name": "stdout",
     "output_type": "stream",
     "text": [
      "der.com>\n",
      "Message-Id: <200210311310.g9VDANt24674@bloodwork.mr.itd.UM>\n",
      "From: \"Mr. Be\n",
      "g_715@epatra.com>\n",
      "Message-Id: <200210312227.g9VMQvDj017948@bluewhale.cs.CU>\n",
      "From: \"PRINCE OBONG ELEME\" <obo\n"
     ]
    }
   ],
   "source": [
    "for line in fh.split(\"n\"):\n",
    "    if \"From:\" in line:\n",
    "        print(line)"
   ]
  },
  {
   "cell_type": "markdown",
   "id": "lovely-associate",
   "metadata": {},
   "source": [
    "But that’s not giving us exactly what we want. If you take a look at our test file, we could figure out why and fix it, but instead, let’s use Python’s re module and do it with regular expressions!"
   ]
  },
  {
   "cell_type": "code",
   "execution_count": 4,
   "id": "other-nicaragua",
   "metadata": {},
   "outputs": [
    {
     "name": "stdout",
     "output_type": "stream",
     "text": [
      "From: \"Mr. Ben Suleman\" <bensul2004nng@spinfinder.com>\n",
      "From: \"PRINCE OBONG ELEME\" <obong_715@epatra.com>\n"
     ]
    }
   ],
   "source": [
    "for line in re.findall(\"From:.*\", fh):\n",
    "    print(line)"
   ]
  },
  {
   "cell_type": "markdown",
   "id": "alien-progress",
   "metadata": {},
   "source": [
    "## Common Python Regex Patterns\n",
    "The pattern we used with re.findall() above contains a fully spelled-out out string, \"From:\". This is useful when we know precisely what we’re looking for, right down to the actual letters and whether or not they’re upper or lower case. If we don’t know the exact format of the strings we want, we’d be lost. Fortunately, regex has basic patterns that account for this scenario. Let’s look at the ones we use in this tutorial:\n",
    "\n",
    "- w matches alphanumeric characters, which means a-z, A-Z, and 0-9. It also matches the underscore, _, and the dash, -.\n",
    "- d matches digits, which means 0-9.\n",
    "- s matches whitespace characters, which include the tab, new line, carriage return, and space characters.\n",
    "- S matches non-whitespace characters.\n",
    "- . matches any character except the new line character n.\n",
    "\n",
    "With these regex patterns in hand, you’ll quickly understand our code above as we go on to explain it.\n",
    "\n",
    "## Working with Regex Patterns\n",
    "\n",
    "We might even go further and isolate only the name. Let’s use re.findall() to return a list of lines containing the pattern \"From:.*\" as we’ve done before. We’ll assign it to the variable match for neatness. Next, we’ll iterate through the list. In each cycle, we’ll execute re.findall again, matching the first quotation mark to pick out just the name:"
   ]
  },
  {
   "cell_type": "code",
   "execution_count": 5,
   "id": "invisible-israeli",
   "metadata": {},
   "outputs": [
    {
     "name": "stdout",
     "output_type": "stream",
     "text": [
      "['\"Mr. Ben Suleman\"']\n",
      "['\"PRINCE OBONG ELEME\"']\n"
     ]
    }
   ],
   "source": [
    "match = re.findall(\"From:.*\", fh)\n",
    "\n",
    "for line in match:\n",
    "    print(re.findall('\\\".*\\\"', line))"
   ]
  },
  {
   "cell_type": "markdown",
   "id": "cloudy-house",
   "metadata": {},
   "source": [
    "What if we want the email address instead?"
   ]
  },
  {
   "cell_type": "code",
   "execution_count": 6,
   "id": "annual-salon",
   "metadata": {},
   "outputs": [
    {
     "name": "stdout",
     "output_type": "stream",
     "text": [
      "['bensul2004nng@spinfinder.com']\n",
      "['obong_715@epatra.com']\n"
     ]
    }
   ],
   "source": [
    "match = re.findall(\"From:.*\", fh)\n",
    "\n",
    "for line in match:\n",
    "    print(re.findall(\"\\w\\S*@\\w*.\\w*\", line))"
   ]
  },
  {
   "cell_type": "markdown",
   "id": "constant-program",
   "metadata": {},
   "source": [
    "Looks simple enough, doesn’t it? Only the pattern is different. Let’s walk through it.\n",
    "\n",
    "Here’s how we match just the front part of the email address:"
   ]
  },
  {
   "cell_type": "code",
   "execution_count": 7,
   "id": "distributed-failure",
   "metadata": {},
   "outputs": [
    {
     "name": "stdout",
     "output_type": "stream",
     "text": [
      "['bensul2004nng@']\n",
      "['obong_715@']\n"
     ]
    }
   ],
   "source": [
    "for line in match:\n",
    "    print(re.findall(\"\\w\\S*@\", line))"
   ]
  },
  {
   "cell_type": "markdown",
   "id": "polyphonic-integration",
   "metadata": {},
   "source": [
    "Now for the pattern behind the @ symbol:"
   ]
  },
  {
   "cell_type": "code",
   "execution_count": 8,
   "id": "crucial-behavior",
   "metadata": {},
   "outputs": [
    {
     "name": "stdout",
     "output_type": "stream",
     "text": [
      "['@spinfinder.com>']\n",
      "['@epatra.com>']\n"
     ]
    }
   ],
   "source": [
    "for line in match:\n",
    "    print(re.findall(\"@.*\", line))"
   ]
  },
  {
   "cell_type": "markdown",
   "id": "active-archive",
   "metadata": {},
   "source": [
    "If we look at the line closely, we see that each email is encapsulated within angle brackets, < and >. Our pattern, .*, includes the closing bracket, >. Let’s remedy it:"
   ]
  },
  {
   "cell_type": "code",
   "execution_count": 9,
   "id": "median-platinum",
   "metadata": {},
   "outputs": [
    {
     "name": "stdout",
     "output_type": "stream",
     "text": [
      "['@spinfinder.com']\n",
      "['@epatra.com']\n"
     ]
    }
   ],
   "source": [
    "for line in match:\n",
    "    print(re.findall(\"@.*\\w\", line))"
   ]
  },
  {
   "cell_type": "markdown",
   "id": "electrical-identifier",
   "metadata": {},
   "source": [
    "## Common Python Regex Functions\n",
    "\n",
    "re.findall() is undeniably useful, but it’s not the only built-in function that’s available to us in re:\n",
    "\n",
    "- re.search()\n",
    "- re.split()\n",
    "- re.sub()\n",
    "Let’s look at these one by one before using them to bring some order to our data set.\n",
    "\n",
    "### re.search()\n",
    "While re.findall() matches all instances of a pattern in a string and returns them in a list, re.search() matches the first instance of a pattern in a string, and returns it as a re match object."
   ]
  },
  {
   "cell_type": "code",
   "execution_count": 10,
   "id": "documentary-bridal",
   "metadata": {},
   "outputs": [
    {
     "name": "stdout",
     "output_type": "stream",
     "text": [
      "<class 're.Match'>\n",
      "<class 'str'>\n",
      "<re.Match object; span=(204, 258), match='From: \"Mr. Ben Suleman\" <bensul2004nng@spinfinder>\n",
      "From: \"Mr. Ben Suleman\" <bensul2004nng@spinfinder.com>\n"
     ]
    }
   ],
   "source": [
    "match = re.search(\"From:.*\", fh)\n",
    "print(type(match))\n",
    "print(type(match.group()))\n",
    "print(match)\n",
    "print(match.group())"
   ]
  },
  {
   "cell_type": "markdown",
   "id": "alpha-flour",
   "metadata": {},
   "source": [
    "Because re.search() returns a re match object, we can’t display the name and email address by printing it directly. Instead, we have to apply the group() function to it first. We’ve printed both their types out in the code above. As we can see, group() converts the match object into a string."
   ]
  },
  {
   "cell_type": "markdown",
   "id": "pleased-jamaica",
   "metadata": {},
   "source": [
    "### re.split()\n",
    "\n",
    "Suppose we need a quick way to get the domain name of the email addresses. We could do it with three regex operations, like so:"
   ]
  },
  {
   "cell_type": "code",
   "execution_count": 11,
   "id": "original-operations",
   "metadata": {},
   "outputs": [
    {
     "name": "stdout",
     "output_type": "stream",
     "text": [
      "bensul2004nng, spinfinder.com\n",
      "obong_715, epatra.com\n"
     ]
    }
   ],
   "source": [
    "address = re.findall(\"From:.*\", fh)\n",
    "for item in address:\n",
    "    for line in re.findall(\"\\w\\S*@.*\\w\", item):\n",
    "        username, domain_name = re.split(\"@\", line)\n",
    "        print(\"{}, {}\".format(username, domain_name))"
   ]
  },
  {
   "cell_type": "markdown",
   "id": "worst-bearing",
   "metadata": {},
   "source": [
    "### re.sub()\n",
    "Another handy re function is re.sub(). As the function name suggests, it substitutes parts of a string. An example:"
   ]
  },
  {
   "cell_type": "code",
   "execution_count": 12,
   "id": "described-handy",
   "metadata": {},
   "outputs": [
    {
     "name": "stdout",
     "output_type": "stream",
     "text": [
      "From: \"Mr. Ben Suleman\" <bensul2004nng@spinfinder.com>\n",
      "Email: \"Mr. Ben Suleman\" <bensul2004nng@spinfinder.com>\n"
     ]
    }
   ],
   "source": [
    "sender = re.search(\"From:.*\", fh)\n",
    "address = sender.group()\n",
    "email = re.sub(\"From\", \"Email\", address)\n",
    "print(address)\n",
    "print(email)"
   ]
  },
  {
   "cell_type": "markdown",
   "id": "statistical-football",
   "metadata": {},
   "source": [
    "## Regex with Pandas\n",
    "\n",
    "Now we have the basics of Python regex in hand. But often for data tasks, we’re not actually using raw Python, we’re using the pandas library. Now let’s take our regex skills to the next level by bringing them into a pandas workflow.\n",
    "\n",
    "### Sorting Emails with Python Regex and Pandas\n",
    "\n",
    "Our corpus is a single text file containing thousands of emails. We’ll use regex and pandas to sort the parts of each email into appropriate categories so that the Corpus can be more easily read or analysed.\n",
    "\n",
    "We’ll sort each email into the following categories:\n",
    "\n",
    "- sender_name\n",
    "- sender_address\n",
    "- recipient_address\n",
    "- recipient_name\n",
    "- date_sent\n",
    "- subject\n",
    "- email_body\n",
    "\n",
    "Each of these categories will become a column in our pandas dataframe (i.e., our table). This will make it easier for us work on and analyze each column individually.\n",
    "\n",
    "### Preparing the Script"
   ]
  },
  {
   "cell_type": "code",
   "execution_count": 33,
   "id": "caroline-sauce",
   "metadata": {},
   "outputs": [],
   "source": [
    "emails = []\n",
    "\n",
    "fh = open(r\"dataset/test_emails.txt\", \"r\").read()"
   ]
  },
  {
   "cell_type": "code",
   "execution_count": 36,
   "id": "hybrid-airfare",
   "metadata": {},
   "outputs": [
    {
     "data": {
      "text/plain": [
       "['  Thu Oct 31 08:11:39 2002\\nReturn-Path: <bensul2004nng@spinfinder.com>\\nX-Sieve: cmu-sieve 2.0\\nReturn-Path: <bensul2004nng@spinfinder.com>\\nMessage-Id: <200210311310.g9VDANt24674@bloodwork.mr.itd.UM>\\nFrom: \"Mr. Ben Suleman\" <bensul2004nng@spinfinder.com>\\nDate: Thu, 31 Oct 2002 05:10:00\\nTo: R@M\\nSubject: URGENT ASSISTANCE /RELATIONSHIP (P)\\nMIME-Version: 1.0\\nContent-Type: text/plain;charset=\"iso-8859-1\"\\nContent-Transfer-Encoding: 7bit\\nStatus: O\\n\\nDear Friend,\\n\\nI am Mr. Ben Suleman a custom officer and work as Assistant controller of the Customs and Excise department Of the Federal Ministry of Internal Affairs stationed at the Murtala Mohammed International Airport, Ikeja, Lagos-Nigeria.\\n\\nAfter the sudden death of the former Head of state of Nigeria General Sanni Abacha on June 8th 1998 his aides and immediate members of his family were arrested while trying to escape from Nigeria in a Chartered jet to Saudi Arabia with 6 trunk boxes Marked \"Diplomatic Baggage\". Acting on a tip-off as they attempted to board the Air Craft,my officials carried out a thorough search on the air craft and discovered that the 6 trunk boxes contained foreign currencies amounting to US$197,570,000.00(One Hundred and  Ninety-Seven Million Five Hundred Seventy Thousand United States Dollars).\\n\\nI declared only (5) five boxes to the government and withheld one (1) in my custody containing the sum of (US$30,000,000.00) Thirty Million United States Dollars Only, which has been disguised to prevent their being discovered during transportation process.Due to several media reports on the late head of state about all the money him and his co-government officials stole from our government treasury amounting\\nto US$55 Billion Dollars (ref:ngrguardiannews.com) of July 2nd 1999. Even the London times of July 1998 reported that General Abacha has over US$3.Billion dollars in one account overseas. We decided to conceal this one (1)box till the situation is calm and quite on the issue. The box was thus deposited with a security company here in Nigeria and tagged as \"Precious Stones and Jewellry\" in other that its\\ncontent will not be discovered. Now that all is calm, we (myself and two of my colleagues in the operations team) are now ready to move this box out of the country through a diplomatic arrangement which is the safest means. \\n\\nHowever as government officials the Civil Service Code of Conduct does not allow us by law to operate any foreign account or own foreign investment and the amount of money that can be found in our account\\ncannot be more than our salary on the average, thus our handicapp and our need for your assistance to help collect and keep safely in your account this money.\\n\\nTherefore we want you to assist us in moving this money out of Nigeria. We shall definitely compensate you handsomely for the assistance. We can do this by instructing the Security Company here in Nigeria to\\nmove the consignment to their affiliate branch office outside Nigeria through diplomatic means and the consignment will be termed as Precious Stones and Jewelleries\" which you bought during your visit to Nigeria and is being transfered to your country from here for safe keeping. Then we can arrange to meet at the destination country to take the delivery of the consignment. You will thereafter open an account there and lodge the Money there and gradually instruct remittance to your Country. \\n\\nThis business is 100% risk free for you so please treat this matter with utmost confidentiality .If you indicate your interest to assist us please just e-mail me for more Explanation on how we plan to execute the transaction.\\n\\nExpecting your response urgently.\\n\\nBest regards,\\n\\nMr. Ben Suleman\\n\\n',\n",
       " '  Thu Oct 31 17:27:16 2002\\nReturn-Path: <obong_715@epatra.com>\\nX-Sieve: cmu-sieve 2.0\\nReturn-Path: <obong_715@epatra.com>\\nMessage-Id: <200210312227.g9VMQvDj017948@bluewhale.cs.CU>\\nFrom: \"PRINCE OBONG ELEME\" <obong_715@epatra.com>\\nReply-To: obong_715@epatra.com\\nTo: webmaster@aclweb.org\\nDate: Thu, 31 Oct 2002 22:17:55 +0100\\nSubject: GOOD DAY TO YOU\\nX-Mailer: Microsoft Outlook Express 5.00.2919.6900DM\\nMIME-Version: 1.0\\nContent-Type: text/plain; charset=\"us-ascii\"\\nContent-Transfer-Encoding: 8bit\\nX-MIME-Autoconverted: from quoted-printable to 8bit by sideshowmel.si.UM id g9VMRBW20642\\nStatus: RO\\n\\nFROM HIS ROYAL MAJESTY (HRM) CROWN RULER OF ELEME KINGDOM \\nCHIEF DANIEL ELEME, PHD, EZE 1 OF ELEME.E-MAIL \\nADDRESS:obong_715@epatra.com  \\n\\nATTENTION:PRESIDENT,CEO Sir/ Madam. \\n\\nThis letter might surprise you because we have met\\nneither in person nor by correspondence. But I believe\\nit is one day that you got to know somebody either in\\nphysical or through correspondence. \\n\\nI got your contact through discreet inquiry from the\\nchambers of commerce and industry of your country on\\nthe net, you and your organization were revealed as\\nbeing quite astute in private entrepreneurship, one\\nhas no doubt in your ability to handle a financialbusiness transaction. \\n\\nHowever, I am the first son of His Royal\\nmajesty,Obong.D. Eleme , and the traditional Ruler of\\nEleme Province in the oil producing area of River\\nState of Nigeria. I am making this contact to you in\\nrespect of US$60,000,000.00 (Sixty Million United\\nState Dollars), which I inherited, from my latefather. \\n\\nThis money was accumulated from royalties paid to my\\nfather as compensation by the oil firms located in our\\narea as a result of oil presence on our land, which\\nhamper agriculture, which is our major source oflivelihood. \\n\\nUnfortunately my father died from protracted\\ndiabetes.But before his death he called my attention\\nand informed me that he lodged some funds on a two\\nboxes with a security firm with an open beneficiary\\nstatus. The lodgment security code number was also\\nrevealed to me, he then advised me to look for a\\nreliable business partner abroad, that will assist me\\nin investing the money in a lucrative business as a\\nresult of economic instability in Nigeria. So this is\\nthe main reason why I am contacting you for us to move\\nthis money from the security firm to any Country of\\nyour choice for investment purpose. \\n\\nSo I will like you to be the ultimate beneficiary, so\\nthat the funds can be moved in your name and\\nparticulars to any Country of your choice where it\\nwill be claimed and invested. Hence my father have had\\nintimated the security firm personnel that the\\nbeneficiary of the box is his foreign partner whose\\nparticulars will be forwarded to the firm when due. \\n\\nBut I will guide you Accordingly. As soon as the funds\\nreach, I will then come over to meet you in person, so\\nthat we can discuss physically on investment\\npotentials. Based on this assistance my Family and I\\nhave unanimously decided to give you 30% of the total\\nmoney, 5% for Charity home, 10% for expenses, which\\nmay arise during this transaction, Fax and phone bills\\ninclusive. The balance of 55% you will invest andmanaged for my Family. \\n\\nI hereby guarantee you that this is not government\\nmoney, it is not drug money and it is not money from\\narms deal. Though you have to maintain high degree of\\nconfidentiality on this matter. I will give more\\ndetails about the proceedings of this transaction as\\nsoon as I receive your favorable reply. \\n\\nPlease reply to my Email Address:obong_715@epatra.com\\nI hope this will be the beginning of a prosperous\\nrelationship between my family and your family. \\n\\nNevertheless if you are for any reason not interested,\\nkindly inform me immediately so that I will look foranother contact. \\n\\nI am waiting for your quick response. \\n\\nYours faithfully, \\n\\nPrince Obong Abbot ']"
      ]
     },
     "execution_count": 36,
     "metadata": {},
     "output_type": "execute_result"
    }
   ],
   "source": [
    "contents = re.split(\"From r\", fh)\n",
    "contents.pop(0)\n",
    "contents"
   ]
  },
  {
   "cell_type": "markdown",
   "id": "vertical-anniversary",
   "metadata": {},
   "source": [
    "### Getting Every Name and Address With a For Loop"
   ]
  },
  {
   "cell_type": "code",
   "execution_count": 43,
   "id": "brutal-adolescent",
   "metadata": {},
   "outputs": [
    {
     "name": "stdout",
     "output_type": "stream",
     "text": [
      "sender type: <class 're.Match'>\n",
      "sender.group() type: <class 'str'>\n",
      "sender: <re.Match object; span=(198, 252), match='From: \"Mr. Ben Suleman\" <bensul2004nng@spinfinder>\n",
      "sender.group(): From: \"Mr. Ben Suleman\" <bensul2004nng@spinfinder.com>\n",
      "\n",
      "bensul2004nng@spinfinder.com\n",
      " \"Mr. Ben Suleman\" \n",
      "\n",
      "sender type: <class 're.Match'>\n",
      "sender.group() type: <class 'str'>\n",
      "sender: <re.Match object; span=(180, 229), match='From: \"PRINCE OBONG ELEME\" <obong_715@epatra.com>>\n",
      "sender.group(): From: \"PRINCE OBONG ELEME\" <obong_715@epatra.com>\n",
      "\n",
      "obong_715@epatra.com\n",
      " \"PRINCE OBONG ELEME\" \n",
      "\n"
     ]
    }
   ],
   "source": [
    "for item in contents:\n",
    "    emails_dict = {}\n",
    "\n",
    "    # Find sender's email address and name.\n",
    "\n",
    "    # Step 1: find the whole line beginning with \"From:\".\n",
    "    sender = re.search(r\"From:.*\", item)\n",
    "    \n",
    "    # Step 2: find the email address and name.\n",
    "    if sender is not None:\n",
    "        s_email = re.search(r\"\\w\\S*@.*\\w\", sender.group())\n",
    "        s_name = re.search(r\":.*<\", sender.group())\n",
    "    else:\n",
    "        s_email = None\n",
    "        s_name = None\n",
    "        \n",
    "    print(\"sender type: \" + str(type(sender)))\n",
    "    print(\"sender.group() type: \" + str(type(sender.group())))\n",
    "    print(\"sender: \" + str(sender))\n",
    "    print(\"sender.group(): \" + str(sender.group()))\n",
    "    print()\n",
    "    \n",
    "    # Step 3A: assign email address as string to a variable.\n",
    "    if s_email is not None:\n",
    "        sender_email = s_email.group()\n",
    "    else:\n",
    "        sender_email = None\n",
    "    # Add email address to dictionary.\n",
    "    emails_dict[\"sender_email\"] = sender_email\n",
    "    \n",
    "    # Step 3B: remove unwanted substrings, assign to variable.\n",
    "    if s_name is not None:\n",
    "        sender_name = re.sub(\"s*<\", \"\", re.sub(\":s*\", \"\", s_name.group()))\n",
    "    else:\n",
    "        sender_name = None\n",
    "\n",
    "    # Add sender's name to dictionary.\n",
    "    emails_dict[\"sender_name\"] = sender_name\n",
    "    \n",
    "    print(sender_email)\n",
    "    print(sender_name)\n",
    "    print()"
   ]
  },
  {
   "cell_type": "markdown",
   "id": "rotary-scene",
   "metadata": {},
   "source": [
    "Perfect. We’ve isolated the email address and the sender’s name. We’ve also added them to the dictionary, which will come into play soon.\n",
    "\n",
    "Now that we’ve found the sender’s email address and name, we do exactly the same set of steps to acquire the recipient’s email address and name for the dictionary."
   ]
  },
  {
   "cell_type": "code",
   "execution_count": 46,
   "id": "parliamentary-preservation",
   "metadata": {},
   "outputs": [
    {
     "data": {
      "text/plain": [
       "<re.Match object; span=(236, 260), match='To: obong_715@epatra.com'>"
      ]
     },
     "execution_count": 46,
     "metadata": {},
     "output_type": "execute_result"
    }
   ],
   "source": [
    "recipient = re.search(r\"To:.*\", item)\n",
    "recipient"
   ]
  },
  {
   "cell_type": "code",
   "execution_count": 51,
   "id": "casual-cooper",
   "metadata": {},
   "outputs": [
    {
     "name": "stdout",
     "output_type": "stream",
     "text": [
      "sender email: bensul2004nng@spinfinder.com\n",
      "sender name:  \"Mr. Ben Suleman\" \n",
      "recipien email: None\n",
      "recipien name: None\n",
      "\n",
      "sender email: obong_715@epatra.com\n",
      "sender name:  \"PRINCE OBONG ELEME\" \n",
      "recipien email: None\n",
      "recipien name: None\n",
      "\n"
     ]
    }
   ],
   "source": [
    "for item in contents:\n",
    "    emails_dict = {}\n",
    "    \n",
    "    # Sender\n",
    "    sender = re.search(r\"From:.*\", item)\n",
    "\n",
    "    if sender is not None:\n",
    "        s_email = re.search(r\"\\w\\S*@.*\\w\", sender.group())\n",
    "        s_name = re.search(r\":.*<\", sender.group())\n",
    "    else:\n",
    "        s_email = None\n",
    "        s_name = None\n",
    "\n",
    "    if s_email is not None:\n",
    "        sender_email = s_email.group()\n",
    "    else:\n",
    "        sender_email = None\n",
    "\n",
    "    emails_dict[\"sender_email\"] = sender_email\n",
    "    \n",
    "    if s_name is not None:\n",
    "        sender_name = re.sub(\"s*<\", \"\", re.sub(\":s*\", \"\", s_name.group()))\n",
    "    else:\n",
    "        sender_name = None\n",
    "\n",
    "    emails_dict[\"sender_name\"] = sender_name\n",
    "    \n",
    "    print(\"sender email: \" + str(sender_email))\n",
    "    print(\"sender name: \" + str(sender_name))\n",
    "    \n",
    "    # Recipient\n",
    "    recipient = re.search(r\"To:.*\", item)\n",
    "    \n",
    "    if recipient is not None:\n",
    "        r_email = re.search(r\"wS*@.*w\", recipient.group())\n",
    "        r_name = re.search(r\":.*<\", recipient.group())\n",
    "    else:\n",
    "        r_email = None\n",
    "        r_name = None\n",
    "    \n",
    "    if r_email is not None:\n",
    "        recipient_email = r_email.group()\n",
    "    else:\n",
    "        recipient_email = None\n",
    "\n",
    "    emails_dict[\"recipient_email\"] = recipient_email\n",
    "\n",
    "    if r_name is not None:\n",
    "        recipient_name = re.sub(\"\\s*<\", \"\", re.sub(\":\\s*\", \"\", r_name.group()))\n",
    "    else:\n",
    "        recipient_name = None\n",
    "\n",
    "    emails_dict[\"recipient_name\"] = recipient_name\n",
    "    print(\"recipien email: \" + str(recipient_email))\n",
    "    print(\"recipien name: \" + str(recipient_name))\n",
    "    print()"
   ]
  }
 ],
 "metadata": {
  "kernelspec": {
   "display_name": "Python 3",
   "language": "python",
   "name": "python3"
  },
  "language_info": {
   "codemirror_mode": {
    "name": "ipython",
    "version": 3
   },
   "file_extension": ".py",
   "mimetype": "text/x-python",
   "name": "python",
   "nbconvert_exporter": "python",
   "pygments_lexer": "ipython3",
   "version": "3.8.3"
  }
 },
 "nbformat": 4,
 "nbformat_minor": 5
}
