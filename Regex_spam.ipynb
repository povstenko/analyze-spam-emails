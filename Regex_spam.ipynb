{
 "cells": [
  {
   "cell_type": "markdown",
   "id": "atmospheric-temperature",
   "metadata": {},
   "source": [
    "# Tutorial: Python Regex (Regular Expressions) for Data Scientists\n",
    "\n",
    "In this tutorial, we’ll use the Fraudulent Email Corpus from Kaggle. It contains thousands of phishing emails sent between 1998 and 2007. They’re pretty entertaining to read."
   ]
  },
  {
   "cell_type": "code",
   "execution_count": 1,
   "id": "impaired-elimination",
   "metadata": {},
   "outputs": [],
   "source": [
    "import re\n",
    "import pandas as pd"
   ]
  },
  {
   "cell_type": "markdown",
   "id": "progressive-repeat",
   "metadata": {},
   "source": [
    "## Introducing Python’s Regex Module\n"
   ]
  },
  {
   "cell_type": "code",
   "execution_count": 4,
   "id": "abstract-inspector",
   "metadata": {},
   "outputs": [],
   "source": [
    "fh = open(r\"dataset/test_emails.txt\", \"r\").read()"
   ]
  },
  {
   "cell_type": "markdown",
   "id": "connected-regulation",
   "metadata": {},
   "source": [
    "Now, suppose we want to find out who the emails are from. We could try raw Python on its own:"
   ]
  },
  {
   "cell_type": "code",
   "execution_count": 5,
   "id": "competitive-ratio",
   "metadata": {},
   "outputs": [
    {
     "name": "stdout",
     "output_type": "stream",
     "text": [
      "der.com>\n",
      "Message-Id: <200210311310.g9VDANt24674@bloodwork.mr.itd.UM>\n",
      "From: \"Mr. Be\n",
      "g_715@epatra.com>\n",
      "Message-Id: <200210312227.g9VMQvDj017948@bluewhale.cs.CU>\n",
      "From: \"PRINCE OBONG ELEME\" <obo\n"
     ]
    }
   ],
   "source": [
    "for line in fh.split(\"n\"):\n",
    "    if \"From:\" in line:\n",
    "        print(line)"
   ]
  },
  {
   "cell_type": "markdown",
   "id": "packed-company",
   "metadata": {},
   "source": [
    "But that’s not giving us exactly what we want. If you take a look at our test file, we could figure out why and fix it, but instead, let’s use Python’s re module and do it with regular expressions!"
   ]
  },
  {
   "cell_type": "code",
   "execution_count": 6,
   "id": "circular-grain",
   "metadata": {},
   "outputs": [
    {
     "name": "stdout",
     "output_type": "stream",
     "text": [
      "From: \"Mr. Ben Suleman\" <bensul2004nng@spinfinder.com>\n",
      "From: \"PRINCE OBONG ELEME\" <obong_715@epatra.com>\n"
     ]
    }
   ],
   "source": [
    "for line in re.findall(\"From:.*\", fh):\n",
    "    print(line)"
   ]
  },
  {
   "cell_type": "markdown",
   "id": "corrected-competition",
   "metadata": {},
   "source": [
    "## Common Python Regex Patterns\n",
    "The pattern we used with re.findall() above contains a fully spelled-out out string, \"From:\". This is useful when we know precisely what we’re looking for, right down to the actual letters and whether or not they’re upper or lower case. If we don’t know the exact format of the strings we want, we’d be lost. Fortunately, regex has basic patterns that account for this scenario. Let’s look at the ones we use in this tutorial:\n",
    "\n",
    "- w matches alphanumeric characters, which means a-z, A-Z, and 0-9. It also matches the underscore, _, and the dash, -.\n",
    "- d matches digits, which means 0-9.\n",
    "- s matches whitespace characters, which include the tab, new line, carriage return, and space characters.\n",
    "- S matches non-whitespace characters.\n",
    "- . matches any character except the new line character n.\n",
    "\n",
    "With these regex patterns in hand, you’ll quickly understand our code above as we go on to explain it.\n",
    "\n",
    "## Working with Regex Patterns\n",
    "\n",
    "We might even go further and isolate only the name. Let’s use re.findall() to return a list of lines containing the pattern \"From:.*\" as we’ve done before. We’ll assign it to the variable match for neatness. Next, we’ll iterate through the list. In each cycle, we’ll execute re.findall again, matching the first quotation mark to pick out just the name:"
   ]
  },
  {
   "cell_type": "code",
   "execution_count": 7,
   "id": "reduced-homework",
   "metadata": {},
   "outputs": [
    {
     "name": "stdout",
     "output_type": "stream",
     "text": [
      "['\"Mr. Ben Suleman\"']\n",
      "['\"PRINCE OBONG ELEME\"']\n"
     ]
    }
   ],
   "source": [
    "match = re.findall(\"From:.*\", fh)\n",
    "\n",
    "for line in match:\n",
    "    print(re.findall('\\\".*\\\"', line))"
   ]
  },
  {
   "cell_type": "markdown",
   "id": "organized-gentleman",
   "metadata": {},
   "source": [
    "What if we want the email address instead?"
   ]
  },
  {
   "cell_type": "code",
   "execution_count": 13,
   "id": "occupational-therapist",
   "metadata": {},
   "outputs": [
    {
     "name": "stdout",
     "output_type": "stream",
     "text": [
      "['bensul2004nng@spinfinder.com']\n",
      "['obong_715@epatra.com']\n"
     ]
    }
   ],
   "source": [
    "match = re.findall(\"From:.*\", fh)\n",
    "\n",
    "for line in match:\n",
    "    print(re.findall(\"\\w\\S*@\\w*.\\w*\", line))"
   ]
  },
  {
   "cell_type": "markdown",
   "id": "designed-nashville",
   "metadata": {},
   "source": [
    "Looks simple enough, doesn’t it? Only the pattern is different. Let’s walk through it.\n",
    "\n",
    "Here’s how we match just the front part of the email address:"
   ]
  },
  {
   "cell_type": "code",
   "execution_count": 14,
   "id": "executive-missouri",
   "metadata": {},
   "outputs": [
    {
     "name": "stdout",
     "output_type": "stream",
     "text": [
      "['bensul2004nng@']\n",
      "['obong_715@']\n"
     ]
    }
   ],
   "source": [
    "for line in match:\n",
    "    print(re.findall(\"\\w\\S*@\", line))"
   ]
  },
  {
   "cell_type": "markdown",
   "id": "photographic-petroleum",
   "metadata": {},
   "source": [
    "Now for the pattern behind the @ symbol:"
   ]
  },
  {
   "cell_type": "code",
   "execution_count": 15,
   "id": "sapphire-citizen",
   "metadata": {},
   "outputs": [
    {
     "name": "stdout",
     "output_type": "stream",
     "text": [
      "['@spinfinder.com>']\n",
      "['@epatra.com>']\n"
     ]
    }
   ],
   "source": [
    "for line in match:\n",
    "    print(re.findall(\"@.*\", line))"
   ]
  },
  {
   "cell_type": "markdown",
   "id": "medical-adobe",
   "metadata": {},
   "source": [
    "If we look at the line closely, we see that each email is encapsulated within angle brackets, < and >. Our pattern, .*, includes the closing bracket, >. Let’s remedy it:"
   ]
  },
  {
   "cell_type": "code",
   "execution_count": 16,
   "id": "sensitive-phrase",
   "metadata": {},
   "outputs": [
    {
     "name": "stdout",
     "output_type": "stream",
     "text": [
      "['@spinfinder.com']\n",
      "['@epatra.com']\n"
     ]
    }
   ],
   "source": [
    "for line in match:\n",
    "    print(re.findall(\"@.*\\w\", line))"
   ]
  }
 ],
 "metadata": {
  "kernelspec": {
   "display_name": "Python 3",
   "language": "python",
   "name": "python3"
  },
  "language_info": {
   "codemirror_mode": {
    "name": "ipython",
    "version": 3
   },
   "file_extension": ".py",
   "mimetype": "text/x-python",
   "name": "python",
   "nbconvert_exporter": "python",
   "pygments_lexer": "ipython3",
   "version": "3.8.3"
  }
 },
 "nbformat": 4,
 "nbformat_minor": 5
}
